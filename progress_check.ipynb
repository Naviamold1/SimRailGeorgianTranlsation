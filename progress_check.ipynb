{
 "cells": [
  {
   "cell_type": "code",
   "execution_count": 1,
   "metadata": {},
   "outputs": [],
   "source": [
    "import os\n",
    "from colorama import Fore"
   ]
  },
  {
   "cell_type": "code",
   "execution_count": 2,
   "metadata": {},
   "outputs": [],
   "source": [
    "import sys\n",
    "\n",
    "def drawProgressBar(percent: float, barLen = 20):\n",
    "    sys.stdout.write(\"\\r\")\n",
    "    sys.stdout.write(\"[{:<{}}] {:.0f}%\".format(\"=\" * int(barLen * percent), barLen, percent * 100))\n",
    "    sys.stdout.flush()"
   ]
  },
  {
   "cell_type": "code",
   "execution_count": 3,
   "metadata": {},
   "outputs": [],
   "source": [
    "clr = {0: Fore.LIGHTRED_EX, 10: Fore.RED, 50: Fore.MAGENTA, 75: Fore.LIGHTYELLOW_EX, 90: Fore.GREEN,100: Fore.LIGHTGREEN_EX}\n",
    "def round_down(n: int) -> int:\n",
    "    thresholds = list(clr.keys())\n",
    "    for i, threshold in enumerate(thresholds):\n",
    "        if n <= threshold:\n",
    "            return thresholds[i-1] if i > 0 else 0\n",
    "    return 100\n",
    "\n",
    "def calc_pct(n: int, t: int) -> float:\n",
    "    return round(100 - ((n / t) * 100), 2)"
   ]
  },
  {
   "cell_type": "code",
   "execution_count": 4,
   "metadata": {},
   "outputs": [
    {
     "name": "stderr",
     "output_type": "stream",
     "text": [
      "<string>:7: SyntaxWarning: invalid escape sequence '\\{'\n",
      "<>:7: SyntaxWarning: invalid escape sequence '\\{'\n",
      "<string>:7: SyntaxWarning: invalid escape sequence '\\{'\n",
      "<>:7: SyntaxWarning: invalid escape sequence '\\{'\n",
      "C:\\Users\\Gcomp\\AppData\\Local\\Temp\\ipykernel_22940\\2926597725.py:7: SyntaxWarning: invalid escape sequence '\\{'\n",
      "  res.append(f'{root}\\{\"\".join(files)}')\n"
     ]
    }
   ],
   "source": [
    "dir_path = r'.'\n",
    "res = []\n",
    "\n",
    "exclude = set([\".git\", \"rich\"])\n",
    "for root, dirs, files in os.walk(dir_path, topdown=True):\n",
    "    [dirs.remove(d) for d in list(dirs) if d in exclude]\n",
    "    res.append(f'{root}\\{\"\".join(files)}')\n",
    "del res[0]"
   ]
  },
  {
   "cell_type": "code",
   "execution_count": 5,
   "metadata": {},
   "outputs": [
    {
     "name": "stdout",
     "output_type": "stream",
     "text": [
      ".\\dispatcherassistant\\geo.lang -> \u001b[32m100.0% \u001b[39m\n",
      ".\\generic\\geo.lang -> \u001b[35m59.6% \u001b[39m\n",
      ".\\gui\\geo.lang -> \u001b[31m16.15% \u001b[39m\n",
      ".\\loading\\geo.lang -> \u001b[32m100.0% \u001b[39m\n",
      ".\\locomotivedepot\\geo.lang -> \u001b[93m78.95% \u001b[39m\n",
      ".\\menu\\geo.lang -> \u001b[31m21.19% \u001b[39m\n",
      ".\\messages\\geo.lang -> \u001b[31m14.58% \u001b[39m\n",
      ".\\mission\\geo.lang -> \u001b[91m8.46% \u001b[39m\n",
      ".\\multiplayer\\geo.lang -> \u001b[32m100.0% \u001b[39m\n",
      ".\\point-system\\geo.lang -> \u001b[31m11.43% \u001b[39m\n",
      ".\\radialmenu\\geo.lang -> \u001b[31m14.41% \u001b[39m\n",
      ".\\sceneries\\geo.lang -> \u001b[32m100.0% \u001b[39m\n",
      "[=====               ] 27%"
     ]
    }
   ],
   "source": [
    "total_line_count = 0\n",
    "total_unsub_text_count = 0\n",
    "\n",
    "for file in res:\n",
    "    line_count = 0\n",
    "    unsub_text_count = 0\n",
    "    with open(file, \"r\", encoding=\"utf-8\") as f:\n",
    "        for line in f.read().rsplit(\"\\n\"):\n",
    "            if line.startswith(\"#\"):\n",
    "                continue\n",
    "            if not line:\n",
    "                continue\n",
    "            try:\n",
    "                sub_text = line.split(\"=\")[1]\n",
    "                line_count += 1\n",
    "                geo_check = sub_text.isascii()\n",
    "                if geo_check:\n",
    "                    unsub_text_count += 1\n",
    "            except IndexError as e:\n",
    "                print(f\"{Fore.RED}Error with string: {line} {Fore.RESET}\")\n",
    "                raise e\n",
    "    total_line_count += line_count\n",
    "    total_unsub_text_count += unsub_text_count\n",
    "    pct_complete = calc_pct(unsub_text_count, line_count)\n",
    "    print(f\"{file} -> {clr[round_down(pct_complete)]}{pct_complete}% {Fore.RESET}\")\n",
    "drawProgressBar(calc_pct(total_unsub_text_count, total_line_count) / 100)"
   ]
  }
 ],
 "metadata": {
  "kernelspec": {
   "display_name": "base",
   "language": "python",
   "name": "python3"
  },
  "language_info": {
   "codemirror_mode": {
    "name": "ipython",
    "version": 3
   },
   "file_extension": ".py",
   "mimetype": "text/x-python",
   "name": "python",
   "nbconvert_exporter": "python",
   "pygments_lexer": "ipython3",
   "version": "3.12.2"
  }
 },
 "nbformat": 4,
 "nbformat_minor": 2
}
